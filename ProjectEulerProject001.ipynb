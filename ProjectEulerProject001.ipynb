{
  "nbformat": 4,
  "nbformat_minor": 0,
  "metadata": {
    "colab": {
      "provenance": [],
      "authorship_tag": "ABX9TyP993ViknZI3E1i+EI4TzJo",
      "include_colab_link": true
    },
    "kernelspec": {
      "name": "python3",
      "display_name": "Python 3"
    },
    "language_info": {
      "name": "python"
    }
  },
  "cells": [
    {
      "cell_type": "markdown",
      "metadata": {
        "id": "view-in-github",
        "colab_type": "text"
      },
      "source": [
        "<a href=\"https://colab.research.google.com/github/imdoingthisforsch/projecteuler/blob/main/ProjectEulerProject001.ipynb\" target=\"_parent\"><img src=\"https://colab.research.google.com/assets/colab-badge.svg\" alt=\"Open In Colab\"/></a>"
      ]
    },
    {
      "cell_type": "code",
      "execution_count": 2,
      "metadata": {
        "id": "edVhvgRQ8ctv"
      },
      "outputs": [],
      "source": [
        "# Multiples of 3 or 5\n",
        "# Problem 1\n",
        "# If we list all the natural numbers below 10 that are multiples of 3 or 5, \n",
        "# we get 3, 5, 6 and 9. The sum of these multiples is 23.\n",
        "# Find the sum of all the multiples of 3 or 5 below 1000."
      ]
    },
    {
      "cell_type": "code",
      "source": [],
      "metadata": {
        "id": "S8K9NTY18hCO"
      },
      "execution_count": null,
      "outputs": []
    }
  ]
}